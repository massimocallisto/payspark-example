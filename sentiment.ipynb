{
 "cells": [
  {
   "cell_type": "code",
   "execution_count": 10,
   "id": "130b9531-6c99-484d-bdba-e2d121d04706",
   "metadata": {},
   "outputs": [
    {
     "name": "stderr",
     "output_type": "stream",
     "text": [
      "Setting default log level to \"WARN\".\n",
      "To adjust logging level use sc.setLogLevel(newLevel). For SparkR, use setLogLevel(newLevel).\n",
      "24/11/28 17:18:57 WARN NativeCodeLoader: Unable to load native-hadoop library for your platform... using builtin-java classes where applicable\n"
     ]
    }
   ],
   "source": [
    "# Creating Spark Context\n",
    "from pyspark import SparkContext\n",
    "sc = SparkContext(\"local\", \"Sentimentanalysis\")"
   ]
  },
  {
   "cell_type": "code",
   "execution_count": 2,
   "id": "f077c204-c773-4c6d-b3bd-9867b824b5ef",
   "metadata": {},
   "outputs": [
    {
     "name": "stdout",
     "output_type": "stream",
     "text": [
      "Defaulting to user installation because normal site-packages is not writeable\n",
      "Collecting textblob\n",
      "  Downloading textblob-0.18.0.post0-py3-none-any.whl (626 kB)\n",
      "\u001b[2K     \u001b[90m━━━━━━━━━━━━━━━━━━━━━━━━━━━━━━━━━━━━━━━\u001b[0m \u001b[32m626.3/626.3 KB\u001b[0m \u001b[31m8.6 MB/s\u001b[0m eta \u001b[36m0:00:00\u001b[0ma \u001b[36m0:00:01\u001b[0m\n",
      "\u001b[?25hCollecting nltk>=3.8\n",
      "  Downloading nltk-3.9.1-py3-none-any.whl (1.5 MB)\n",
      "\u001b[2K     \u001b[90m━━━━━━━━━━━━━━━━━━━━━━━━━━━━━━━━━━━━━━━━\u001b[0m \u001b[32m1.5/1.5 MB\u001b[0m \u001b[31m37.4 MB/s\u001b[0m eta \u001b[36m0:00:00\u001b[0ma \u001b[36m0:00:01\u001b[0m\n",
      "\u001b[?25hCollecting tqdm\n",
      "  Downloading tqdm-4.67.1-py3-none-any.whl (78 kB)\n",
      "\u001b[2K     \u001b[90m━━━━━━━━━━━━━━━━━━━━━━━━━━━━━━━━━━━━━━━━\u001b[0m \u001b[32m78.5/78.5 KB\u001b[0m \u001b[31m17.9 MB/s\u001b[0m eta \u001b[36m0:00:00\u001b[0m\n",
      "\u001b[?25hCollecting joblib\n",
      "  Downloading joblib-1.4.2-py3-none-any.whl (301 kB)\n",
      "\u001b[2K     \u001b[90m━━━━━━━━━━━━━━━━━━━━━━━━━━━━━━━━━━━━━━\u001b[0m \u001b[32m301.8/301.8 KB\u001b[0m \u001b[31m40.6 MB/s\u001b[0m eta \u001b[36m0:00:00\u001b[0m\n",
      "\u001b[?25hCollecting regex>=2021.8.3\n",
      "  Downloading regex-2024.11.6-cp310-cp310-manylinux_2_17_aarch64.manylinux2014_aarch64.whl (782 kB)\n",
      "\u001b[2K     \u001b[90m━━━━━━━━━━━━━━━━━━━━━━━━━━━━━━━━━━━━━━\u001b[0m \u001b[32m782.5/782.5 KB\u001b[0m \u001b[31m42.3 MB/s\u001b[0m eta \u001b[36m0:00:00\u001b[0m\n",
      "\u001b[?25hRequirement already satisfied: click in /usr/lib/python3/dist-packages (from nltk>=3.8->textblob) (8.0.3)\n",
      "Installing collected packages: tqdm, regex, joblib, nltk, textblob\n",
      "Successfully installed joblib-1.4.2 nltk-3.9.1 regex-2024.11.6 textblob-0.18.0.post0 tqdm-4.67.1\n"
     ]
    }
   ],
   "source": [
    "!pip install textblob"
   ]
  },
  {
   "cell_type": "code",
   "execution_count": 11,
   "id": "6723d7d3-8734-42d4-a00f-526306ff30ec",
   "metadata": {},
   "outputs": [],
   "source": [
    "from textblob import TextBlob\n",
    "from datetime import datetime\n"
   ]
  },
  {
   "cell_type": "code",
   "execution_count": 12,
   "id": "2de7d310-d4d9-4bdd-a3f0-bfd23b59b6ab",
   "metadata": {},
   "outputs": [],
   "source": [
    "data = [\n",
    "    (\"CaptainGiggles\", datetime(2024, 11, 28, 10, 0, 0).isoformat(), \"Great product, very useful!\"),\n",
    "    (\"SirLaughsALot\", datetime(2024, 11, 27, 15, 30, 0).isoformat(), \"Average quality, could be better.\"),\n",
    "    (\"PrincessSnickers\", datetime(2024, 11, 26, 18, 45, 0).isoformat(), \"Loved it! Highly recommended.\"),\n",
    "    (\"CountChuckle\", datetime(2024, 11, 25, 14, 20, 0).isoformat(), \"Not worth the price.\"),\n",
    "    (\"BaronGigglepants\", datetime(2024, 11, 24, 11, 10, 0).isoformat(), \"Excellent performance and durability.\"),\n",
    "    (\"LadyGuffaw\", datetime(2024, 11, 23, 19, 5, 0).isoformat(), \"Decent product for the price.\"),\n",
    "    (\"DukeOfHah\", datetime(2024, 11, 22, 13, 50, 0).isoformat(), \"The product arrived damaged.\"),\n",
    "    (\"MadameMirth\", datetime(2024, 11, 21, 16, 30, 0).isoformat(), \"Great design, but lacks features.\"),\n",
    "    (\"CountessChuckles\", datetime(2024, 11, 20, 20, 40, 0).isoformat(), \"Exceeded my expectations.\"),\n",
    "    (\"SirSmirks\", datetime(2024, 11, 19, 9, 25, 0).isoformat(), \"Terrible experience. Would not buy again.\"),\n",
    "]\n",
    "\n",
    "# Create an RDD from the data\n",
    "rdd = sc.parallelize(data)"
   ]
  },
  {
   "cell_type": "code",
   "execution_count": 15,
   "id": "858aa1aa-e696-40e0-a70a-eeee7005acf7",
   "metadata": {},
   "outputs": [
    {
     "name": "stdout",
     "output_type": "stream",
     "text": [
      "('CaptainGiggles', '2024-11-28T10:00:00', 'Great product, very useful!')\n",
      "('SirLaughsALot', '2024-11-27T15:30:00', 'Average quality, could be better.')\n",
      "('PrincessSnickers', '2024-11-26T18:45:00', 'Loved it! Highly recommended.')\n",
      "('CountChuckle', '2024-11-25T14:20:00', 'Not worth the price.')\n",
      "('BaronGigglepants', '2024-11-24T11:10:00', 'Excellent performance and durability.')\n",
      "('LadyGuffaw', '2024-11-23T19:05:00', 'Decent product for the price.')\n",
      "('DukeOfHah', '2024-11-22T13:50:00', 'The product arrived damaged.')\n",
      "('MadameMirth', '2024-11-21T16:30:00', 'Great design, but lacks features.')\n",
      "('CountessChuckles', '2024-11-20T20:40:00', 'Exceeded my expectations.')\n",
      "('SirSmirks', '2024-11-19T09:25:00', 'Terrible experience. Would not buy again.')\n"
     ]
    }
   ],
   "source": [
    "for element in rdd.collect():\n",
    "    print(element)"
   ]
  },
  {
   "cell_type": "code",
   "execution_count": 33,
   "id": "e72dd4ae-44c5-482a-8b28-ceea7c11ec43",
   "metadata": {},
   "outputs": [],
   "source": [
    "def calculate_sentiment(row):\n",
    "    polarity = TextBlob(row[2]).sentiment.polarity\n",
    "    sentiment = \"neutral\"\n",
    "    if polarity < 0:\n",
    "        sentiment = \"negative\"\n",
    "    elif polarity > 0:\n",
    "        sentiment = \"positive\"   \n",
    "    return (row[0], row[1], row[2], sentiment)\n"
   ]
  },
  {
   "cell_type": "code",
   "execution_count": 34,
   "id": "53a671d7-db7c-4436-885d-3fb6cdef310f",
   "metadata": {},
   "outputs": [],
   "source": [
    "rdd2 = rdd.map(calculate_sentiment)"
   ]
  },
  {
   "cell_type": "code",
   "execution_count": 35,
   "id": "cf959358-503d-46ee-85eb-b0568542c070",
   "metadata": {},
   "outputs": [
    {
     "name": "stdout",
     "output_type": "stream",
     "text": [
      "('CaptainGiggles', '2024-11-28T10:00:00', 'Great product, very useful!', 'positive')\n",
      "('SirLaughsALot', '2024-11-27T15:30:00', 'Average quality, could be better.', 'positive')\n",
      "('PrincessSnickers', '2024-11-26T18:45:00', 'Loved it! Highly recommended.', 'positive')\n",
      "('CountChuckle', '2024-11-25T14:20:00', 'Not worth the price.', 'negative')\n",
      "('BaronGigglepants', '2024-11-24T11:10:00', 'Excellent performance and durability.', 'positive')\n",
      "('LadyGuffaw', '2024-11-23T19:05:00', 'Decent product for the price.', 'positive')\n",
      "('DukeOfHah', '2024-11-22T13:50:00', 'The product arrived damaged.', 'neutral')\n",
      "('MadameMirth', '2024-11-21T16:30:00', 'Great design, but lacks features.', 'positive')\n",
      "('CountessChuckles', '2024-11-20T20:40:00', 'Exceeded my expectations.', 'neutral')\n",
      "('SirSmirks', '2024-11-19T09:25:00', 'Terrible experience. Would not buy again.', 'negative')\n"
     ]
    }
   ],
   "source": [
    "for element in rdd2.collect():\n",
    "    print(element)"
   ]
  },
  {
   "cell_type": "code",
   "execution_count": 39,
   "id": "461f47d5-50f5-4fce-8b5d-73d65d18d26b",
   "metadata": {},
   "outputs": [],
   "source": [
    "rdd3 = rdd2.filter(lambda x : \"neutral\" in x[3])"
   ]
  },
  {
   "cell_type": "code",
   "execution_count": 40,
   "id": "4b1cd1a4-e13a-43e5-9750-f51dbf7db790",
   "metadata": {},
   "outputs": [
    {
     "name": "stdout",
     "output_type": "stream",
     "text": [
      "('DukeOfHah', '2024-11-22T13:50:00', 'The product arrived damaged.', 'neutral')\n",
      "('CountessChuckles', '2024-11-20T20:40:00', 'Exceeded my expectations.', 'neutral')\n"
     ]
    }
   ],
   "source": [
    "for element in rdd3.collect():\n",
    "    print(element)"
   ]
  },
  {
   "cell_type": "code",
   "execution_count": null,
   "id": "92532068-2694-4d2d-9073-b1f27ee1142a",
   "metadata": {},
   "outputs": [],
   "source": []
  }
 ],
 "metadata": {
  "kernelspec": {
   "display_name": "Python 3 (ipykernel)",
   "language": "python",
   "name": "python3"
  },
  "language_info": {
   "codemirror_mode": {
    "name": "ipython",
    "version": 3
   },
   "file_extension": ".py",
   "mimetype": "text/x-python",
   "name": "python",
   "nbconvert_exporter": "python",
   "pygments_lexer": "ipython3",
   "version": "3.10.12"
  }
 },
 "nbformat": 4,
 "nbformat_minor": 5
}
