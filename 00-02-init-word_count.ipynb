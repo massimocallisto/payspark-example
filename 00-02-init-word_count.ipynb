{
 "cells": [
  {
   "cell_type": "markdown",
   "id": "145a96d8-8196-4210-8d34-e2fe88ad3993",
   "metadata": {},
   "source": [
    "# Testing PySpark RDD\n",
    "https://github.com/spark-examples/pyspark-examples/blob/master/pyspark-rdd-wordcount-2.py\n"
   ]
  },
  {
   "cell_type": "code",
   "execution_count": null,
   "id": "ea612f86-179f-4ada-b5cf-d019f626a4b6",
   "metadata": {},
   "outputs": [],
   "source": [
    "# Creating Spark Context\n",
    "from pyspark import SparkContext\n",
    "sc = SparkContext(\"local\", \"Wordcount\")"
   ]
  },
  {
   "cell_type": "code",
   "execution_count": null,
   "id": "4b3cd12e-afa8-4225-809d-45f454207467",
   "metadata": {},
   "outputs": [],
   "source": [
    "text_file = sc.textFile(\"doveconviene_info.txt\")"
   ]
  },
  {
   "cell_type": "code",
   "execution_count": null,
   "id": "3c61134b-1584-42b3-8e41-34ba709fdaf0",
   "metadata": {},
   "outputs": [],
   "source": [
    "for element in text_file.collect():\n",
    "    print(element)"
   ]
  },
  {
   "cell_type": "code",
   "execution_count": null,
   "id": "25c65a10-b270-4b2a-84ee-fa123200e6bd",
   "metadata": {},
   "outputs": [],
   "source": [
    "#Flatmap    \n",
    "rdd=text_file\n",
    "rdd2=rdd.flatMap(lambda x: x.split(\" \"))\n",
    "for element in rdd2.collect():\n",
    "    print(element)"
   ]
  },
  {
   "cell_type": "code",
   "execution_count": null,
   "id": "f1a1644f-af0e-4235-bc92-9263da52b0ac",
   "metadata": {},
   "outputs": [],
   "source": [
    "#map\n",
    "rdd3=rdd2.map(lambda x: (x,1))\n",
    "for element in rdd3.collect():\n",
    "    print(element)"
   ]
  },
  {
   "cell_type": "code",
   "execution_count": null,
   "id": "7da526d6-59ba-4c26-a6b6-db2b99d462dd",
   "metadata": {},
   "outputs": [],
   "source": [
    "#reduceByKey\n",
    "rdd4=rdd3.reduceByKey(lambda a,b: a+b)\n",
    "for element in rdd4.collect():\n",
    "    print(element)"
   ]
  },
  {
   "cell_type": "code",
   "execution_count": null,
   "id": "c98346e9-62fb-41a0-ae10-bda60f8c1df3",
   "metadata": {},
   "outputs": [],
   "source": [
    "#map\n",
    "rdd5 = rdd4.map(lambda x: (x[1],x[0])).sortByKey(False)\n",
    "for element in rdd5.collect():\n",
    "    print(element)"
   ]
  },
  {
   "cell_type": "code",
   "execution_count": null,
   "id": "ce498021-24c6-4b2e-b472-c874750cad15",
   "metadata": {},
   "outputs": [],
   "source": [
    "#filter\n",
    "rdd6 = rdd5.filter(lambda x : 'a' in x[1])\n",
    "for element in rdd6.collect():\n",
    "    print(element)"
   ]
  },
  {
   "cell_type": "code",
   "execution_count": null,
   "id": "f71455da-c30b-4a1a-b0ac-faa8cd586274",
   "metadata": {},
   "outputs": [],
   "source": [
    "sc.stop()"
   ]
  }
 ],
 "metadata": {
  "kernelspec": {
   "display_name": "Python 3 (ipykernel)",
   "language": "python",
   "name": "python3"
  },
  "language_info": {
   "codemirror_mode": {
    "name": "ipython",
    "version": 3
   },
   "file_extension": ".py",
   "mimetype": "text/x-python",
   "name": "python",
   "nbconvert_exporter": "python",
   "pygments_lexer": "ipython3",
   "version": "3.10.12"
  }
 },
 "nbformat": 4,
 "nbformat_minor": 5
}
