{
 "cells": [
  {
   "cell_type": "code",
   "execution_count": null,
   "id": "130b9531-6c99-484d-bdba-e2d121d04706",
   "metadata": {},
   "outputs": [],
   "source": [
    "# Creating Spark Context\n",
    "from pyspark import SparkContext\n",
    "sc = SparkContext(\"local\", \"Sentimentanalysis\")"
   ]
  },
  {
   "cell_type": "code",
   "execution_count": null,
   "id": "f077c204-c773-4c6d-b3bd-9867b824b5ef",
   "metadata": {},
   "outputs": [],
   "source": [
    "!pip install textblob"
   ]
  },
  {
   "cell_type": "code",
   "execution_count": null,
   "id": "6723d7d3-8734-42d4-a00f-526306ff30ec",
   "metadata": {},
   "outputs": [],
   "source": [
    "from textblob import TextBlob\n",
    "from datetime import datetime\n"
   ]
  },
  {
   "cell_type": "code",
   "execution_count": null,
   "id": "2de7d310-d4d9-4bdd-a3f0-bfd23b59b6ab",
   "metadata": {},
   "outputs": [],
   "source": [
    "data = [\n",
    "    (\"CaptainGiggles\", datetime(2024, 11, 28, 10, 0, 0).isoformat(), \"Great product, very useful!\"),\n",
    "    (\"SirLaughsALot\", datetime(2024, 11, 27, 15, 30, 0).isoformat(), \"Average quality, could be better.\"),\n",
    "    (\"PrincessSnickers\", datetime(2024, 11, 26, 18, 45, 0).isoformat(), \"Loved it! Highly recommended.\"),\n",
    "    (\"CountChuckle\", datetime(2024, 11, 25, 14, 20, 0).isoformat(), \"Not worth the price.\"),\n",
    "    (\"BaronGigglepants\", datetime(2024, 11, 24, 11, 10, 0).isoformat(), \"Excellent performance and durability.\"),\n",
    "    (\"LadyGuffaw\", datetime(2024, 11, 23, 19, 5, 0).isoformat(), \"Decent product for the price.\"),\n",
    "    (\"DukeOfHah\", datetime(2024, 11, 22, 13, 50, 0).isoformat(), \"The product arrived damaged.\"),\n",
    "    (\"MadameMirth\", datetime(2024, 11, 21, 16, 30, 0).isoformat(), \"Great design, but lacks features.\"),\n",
    "    (\"CountessChuckles\", datetime(2024, 11, 20, 20, 40, 0).isoformat(), \"Exceeded my expectations.\"),\n",
    "    (\"SirSmirks\", datetime(2024, 11, 19, 9, 25, 0).isoformat(), \"Terrible experience. Would not buy again.\"),\n",
    "]\n",
    "\n",
    "# Create an RDD from the data\n",
    "rdd = sc.parallelize(data)"
   ]
  },
  {
   "cell_type": "code",
   "execution_count": null,
   "id": "858aa1aa-e696-40e0-a70a-eeee7005acf7",
   "metadata": {},
   "outputs": [],
   "source": [
    "for element in rdd.collect():\n",
    "    print(element)"
   ]
  },
  {
   "cell_type": "code",
   "execution_count": null,
   "id": "e72dd4ae-44c5-482a-8b28-ceea7c11ec43",
   "metadata": {},
   "outputs": [],
   "source": [
    "def calculate_sentiment(row):\n",
    "    polarity = TextBlob(row[2]).sentiment.polarity\n",
    "    sentiment = \"neutral\"\n",
    "    if polarity < 0:\n",
    "        sentiment = \"negative\"\n",
    "    elif polarity > 0:\n",
    "        sentiment = \"positive\"   \n",
    "    return (row[0], row[1], row[2], sentiment)\n"
   ]
  },
  {
   "cell_type": "code",
   "execution_count": null,
   "id": "53a671d7-db7c-4436-885d-3fb6cdef310f",
   "metadata": {},
   "outputs": [],
   "source": [
    "rdd2 = rdd.map(calculate_sentiment)"
   ]
  },
  {
   "cell_type": "code",
   "execution_count": null,
   "id": "cf959358-503d-46ee-85eb-b0568542c070",
   "metadata": {},
   "outputs": [],
   "source": [
    "for element in rdd2.collect():\n",
    "    print(element)"
   ]
  },
  {
   "cell_type": "code",
   "execution_count": null,
   "id": "461f47d5-50f5-4fce-8b5d-73d65d18d26b",
   "metadata": {},
   "outputs": [],
   "source": [
    "rdd3 = rdd2.filter(lambda x : \"neutral\" in x[3])"
   ]
  },
  {
   "cell_type": "code",
   "execution_count": null,
   "id": "4b1cd1a4-e13a-43e5-9750-f51dbf7db790",
   "metadata": {},
   "outputs": [],
   "source": [
    "for element in rdd3.collect():\n",
    "    print(element)"
   ]
  },
  {
   "cell_type": "code",
   "execution_count": null,
   "id": "92532068-2694-4d2d-9073-b1f27ee1142a",
   "metadata": {},
   "outputs": [],
   "source": []
  }
 ],
 "metadata": {
  "kernelspec": {
   "display_name": "Python 3 (ipykernel)",
   "language": "python",
   "name": "python3"
  },
  "language_info": {
   "codemirror_mode": {
    "name": "ipython",
    "version": 3
   },
   "file_extension": ".py",
   "mimetype": "text/x-python",
   "name": "python",
   "nbconvert_exporter": "python",
   "pygments_lexer": "ipython3",
   "version": "3.10.12"
  }
 },
 "nbformat": 4,
 "nbformat_minor": 5
}
